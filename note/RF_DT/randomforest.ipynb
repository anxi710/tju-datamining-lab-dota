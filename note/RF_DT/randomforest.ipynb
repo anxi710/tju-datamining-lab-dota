{
 "cells": [
  {
   "cell_type": "markdown",
   "metadata": {},
   "source": [
    "#### Random Forest\n",
    "\n",
    "集成学习通过训练学习出多个估计器，当需要预测时通过结合器将多个估计器的结果整合起来当作最后的结果输出。\n",
    "\n",
    "Bootstrap Aggregating（自助聚集，Bagging）算法由 Bootstrap 和 Aggregating 两部分组成。\n",
    "\n",
    "Bootstrap（自助取样）：假设有一个大小为 $N$ 的训练数据集，每次从该数据集中有放回的抽样出大小为 $M$ 的子数据集，一共选 $K$ 次。\n",
    "\n",
    "Aggregating（聚集）：根据这 $K$ 个子数据集训练出 $K$ 个模型，当需要预测时，使用这 $K$ 个模型预测，再通过取均值或多数分类的方式得到最后的预测结果。\n",
    "\n",
    "随机森林算法将多个决策树结合在一起，每次数据集都是随机有放回地选出，同时随机选出部分特征作为输入，所以该算法被称为随机森林算法。可以看到随机森林算法是以决策树为估计器的 Bagging 算法。\n",
    "\n",
    "> 对于分类问题，可以在每次划分时使用 $\\sqrt{M}$ 个特征；对于回归问题，选择 $\\frac{M}{3}$ 但不少于 5 个特征"
   ]
  }
 ],
 "metadata": {
  "language_info": {
   "name": "python"
  }
 },
 "nbformat": 4,
 "nbformat_minor": 2
}
