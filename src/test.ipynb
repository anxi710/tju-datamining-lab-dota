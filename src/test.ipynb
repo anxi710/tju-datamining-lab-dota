{
 "cells": [
  {
   "cell_type": "code",
   "execution_count": null,
   "metadata": {},
   "outputs": [],
   "source": [
    "import os                  # 一些操作系统提供的 API\n",
    "from tqdm import notebook  # 为循环或其他迭代操作添加进度条\n",
    "import numpy as np\n",
    "import pandas as pd\n",
    "import ujson as json       # 用于读入 .json 文件"
   ]
  },
  {
   "cell_type": "code",
   "execution_count": null,
   "metadata": {},
   "outputs": [],
   "source": [
    "# 宏定义\n",
    "PATH_TO_RAW_DATA = '../data'\n",
    "PATH_TO_PROCESSED_DATA = './data'"
   ]
  },
  {
   "cell_type": "code",
   "execution_count": null,
   "metadata": {},
   "outputs": [],
   "source": [
    "def read_matches(matches_file):\n",
    "    \"\"\" 生成器函数，用于读取比赛数据 \"\"\"\n",
    "\n",
    "    MATCHES_COUNT = {\n",
    "        'test_matches.jsonl': 10000,\n",
    "        'train_matches.jsonl': 39675\n",
    "    }\n",
    "\n",
    "    _, filename = os.path.split(matches_file)\n",
    "    total_matches = MATCHES_COUNT.get(filename)\n",
    "\n",
    "    with open(matches_file) as fin:\n",
    "        for line in notebook.tqdm(fin, total=total_matches):\n",
    "            yield json.loads(line)"
   ]
  },
  {
   "cell_type": "code",
   "execution_count": null,
   "metadata": {},
   "outputs": [],
   "source": [
    "# 查看原始数据中，objectives 的 type 有哪些\n",
    "obj_type = set()\n",
    "\n",
    "for match in read_matches(os.path.join(PATH_TO_RAW_DATA, 'train_matches.jsonl')):\n",
    "    objectives = match['objectives']\n",
    "    for obj in objectives:\n",
    "        print(obj)\n",
    "        obj_type.add(obj['type'])\n",
    "\n",
    "print(obj_type)"
   ]
  },
  {
   "cell_type": "code",
   "execution_count": null,
   "metadata": {},
   "outputs": [],
   "source": [
    "lack_type = [set(), set(), set()]\n",
    "count_barracks_kill = 0\n",
    "count_lack_type2 = 0\n",
    "for match in read_matches('../data/train_matches.jsonl'):\n",
    "    for objective in match['objectives']:\n",
    "        if 'team' not in objective:\n",
    "            lack_type[0].add(objective['type'])\n",
    "        if 'team' not in objective and 'player_slot' not in objective:\n",
    "            lack_type[1].add(objective['type'])\n",
    "        if 'team' not in objective and 'player_slot' not in objective and 'slot' not in objective:\n",
    "            count_lack_type2 += 1\n",
    "            lack_type[2].add(objective['type'])\n",
    "        if objective['type'] == 'CHAT_MESSAGE_BARRACKS_KILL':\n",
    "            count_barracks_kill += 1\n",
    "\n",
    "print(f'Barracks kill count: {count_barracks_kill}')\n",
    "print(f'Lack type 2 count: {count_lack_type2}')\n",
    "\n",
    "print(f'{lack_type[0]} has no team')\n",
    "print(f'{lack_type[1]} has no team and player_slot')\n",
    "print(f'{lack_type[2]} has no team, player_slot and slot')"
   ]
  },
  {
   "cell_type": "code",
   "execution_count": null,
   "metadata": {},
   "outputs": [],
   "source": [
    "team_type = set()\n",
    "for match in read_matches('../data/train_matches.jsonl'):\n",
    "    for objective in match['objectives']:\n",
    "        if 'team' in objective:\n",
    "            if objective['team'] == 100 or objective['team'] == 60:\n",
    "                if 'player_slot' not in objective:\n",
    "                    print(\"Error occurs!\")\n",
    "            if objective['team'] == 2 and ('player_slot' in objective and objective['player_slot'] >= 128 and objective['player_slot'] <= 132):\n",
    "                print(\"Error occurs!\")\n",
    "            if objective['team'] == 3 and ('player_slot' in objective and objective['player_slot'] >= 0 and objective['player_slot'] <= 4):\n",
    "                print(\"Error occurs!\")\n",
    "            team_type.add(objective['team'])\n",
    "\n",
    "print(team_type)"
   ]
  },
  {
   "cell_type": "code",
   "execution_count": null,
   "metadata": {},
   "outputs": [],
   "source": [
    "ping_key = set()\n",
    "for match in read_matches('../data/train_matches.jsonl'):\n",
    "    players = match['players']\n",
    "    for player in players:\n",
    "        pings = player['pings']\n",
    "        print(pings)"
   ]
  }
 ],
 "metadata": {
  "kernelspec": {
   "display_name": "jupyter",
   "language": "python",
   "name": "python3"
  },
  "language_info": {
   "name": "python",
   "version": "3.11.9"
  }
 },
 "nbformat": 4,
 "nbformat_minor": 2
}
