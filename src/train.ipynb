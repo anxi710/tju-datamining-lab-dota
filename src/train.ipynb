{
 "cells": [
  {
   "cell_type": "markdown",
   "metadata": {},
   "source": [
    "# 模型训练"
   ]
  },
  {
   "cell_type": "code",
   "execution_count": 4,
   "metadata": {},
   "outputs": [],
   "source": [
    "import os\n",
    "import pandas as pd\n",
    "from sklearn.ensemble import RandomForestClassifier\n",
    "from sklearn.model_selection import ShuffleSplit, KFold\n",
    "from sklearn.model_selection import cross_val_score"
   ]
  },
  {
   "cell_type": "markdown",
   "metadata": {},
   "source": [
    "## Step1. 加载数据"
   ]
  },
  {
   "cell_type": "code",
   "execution_count": null,
   "metadata": {},
   "outputs": [],
   "source": [
    "# 加载预处理过后的数据\n",
    "PATH_TO_DATA = './data/'  # 预处理后的数据存放在同级目录下！\n",
    "\n",
    "df_train_features = pd.read_csv(os.path.join(PATH_TO_DATA, 'my_train_features.csv'),\n",
    "                                index_col='match_id_hash')\n",
    "\n",
    "df_train_targets = pd.read_csv(os.path.join(PATH_TO_DATA, 'my_train_targets.csv'),\n",
    "                               index_col='match_id_hash')\n",
    "\n",
    "df_test_features = pd.read_csv(os.path.join(PATH_TO_DATA, 'my_test_features.csv'),\n",
    "                               index_col='match_id_hash')\n",
    "\n",
    "\"\"\" turn the data into numpy arrays \"\"\"\n",
    "X_train = df_train_features.to_numpy()               # the axes labels will be removed!\n",
    "y_train = df_train_targets['radiant_win'].to_numpy() # extract the column we need\n",
    "X_test  = df_test_features.to_numpy()"
   ]
  },
  {
   "cell_type": "markdown",
   "metadata": {},
   "source": [
    "## Step2. 使用交叉验证的方法调节模型参数"
   ]
  },
  {
   "cell_type": "code",
   "execution_count": null,
   "metadata": {},
   "outputs": [],
   "source": [
    "\"\"\" Split the data into train and validation sets \"\"\"\n",
    "cv = ShuffleSplit(n_splits=5, test_size=0.3, random_state=17)  # 5 splits, 30% test data\n",
    "\n",
    "\"\"\" Train the Random Forest model \"\"\"\n",
    "rf = RandomForestClassifier(n_estimators=100, n_jobs=4,\n",
    "                            max_depth=None, min_samples_leaf=3, random_state=17)  # 考虑是否需要进行正则化！\n",
    "\n",
    "\"\"\" Cross-validation \"\"\"\n",
    "cv_scores = cross_val_score(rf, X_train, y_train, cv=cv, scoring='roc_auc', n_jobs=-1)"
   ]
  },
  {
   "cell_type": "markdown",
   "metadata": {},
   "source": [
    "## Step3. 预测并打包数据"
   ]
  },
  {
   "cell_type": "code",
   "execution_count": null,
   "metadata": {},
   "outputs": [],
   "source": [
    "y_test_pred = rf.predict_proba(X_test)[:, 1]\n",
    "\n",
    "df_submission = pd.DataFrame({'radiant_win_prob': y_test_pred},\n",
    "                                 index=df_test_features.index)\n",
    "\n",
    "df_submission.to_csv(\"./data/submission.csv\")"
   ]
  }
 ],
 "metadata": {
  "kernelspec": {
   "display_name": "jupyter",
   "language": "python",
   "name": "python3"
  },
  "language_info": {
   "codemirror_mode": {
    "name": "ipython",
    "version": 3
   },
   "file_extension": ".py",
   "mimetype": "text/x-python",
   "name": "python",
   "nbconvert_exporter": "python",
   "pygments_lexer": "ipython3",
   "version": "3.11.9"
  }
 },
 "nbformat": 4,
 "nbformat_minor": 2
}
