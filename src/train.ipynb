{
 "cells": [
  {
   "cell_type": "markdown",
   "metadata": {},
   "source": [
    "# 模型训练"
   ]
  },
  {
   "cell_type": "code",
   "execution_count": 1,
   "metadata": {},
   "outputs": [],
   "source": [
    "import os\n",
    "import pandas as pd\n",
    "from sklearn.ensemble import RandomForestClassifier\n",
    "from sklearn.model_selection import ShuffleSplit, KFold\n",
    "from sklearn.model_selection import cross_val_score\n",
    "from sklearn.model_selection import GridSearchCV\n",
    "from sklearn.model_selection import RandomizedSearchCV\n",
    "from scipy.stats import randint as sp_randint\n",
    "from skopt import BayesSearchCV\n",
    "from skopt.space import Real, Categorical, Integer\n",
    "from sklearn.model_selection import train_test_split"
   ]
  },
  {
   "cell_type": "markdown",
   "metadata": {},
   "source": [
    "## Step1. 加载数据"
   ]
  },
  {
   "cell_type": "code",
   "execution_count": 2,
   "metadata": {},
   "outputs": [],
   "source": [
    "# 加载预处理过后的数据\n",
    "PATH_TO_DATA = '../data/'  # 预处理后的数据存放在同级目录下！\n",
    "\n",
    "df_train_features = pd.read_csv(os.path.join(PATH_TO_DATA, 'train_features.csv'),\n",
    "                                index_col='match_id_hash')\n",
    "\n",
    "df_train_targets = pd.read_csv(os.path.join(PATH_TO_DATA, 'train_targets.csv'),\n",
    "                               index_col='match_id_hash')\n",
    "\n",
    "df_test_features = pd.read_csv(os.path.join(PATH_TO_DATA, 'test_features.csv'),\n",
    "                               index_col='match_id_hash')\n",
    "\n",
    "\"\"\" turn the data into numpy arrays \"\"\"\n",
    "X_train = df_train_features.to_numpy()               # the axes labels will be removed!\n",
    "y_train = df_train_targets['radiant_win'].to_numpy() # extract the column we need\n",
    "X_test  = df_test_features.to_numpy()"
   ]
  },
  {
   "cell_type": "code",
   "execution_count": 3,
   "metadata": {},
   "outputs": [
    {
     "name": "stdout",
     "output_type": "stream",
     "text": [
      "X_train.shape: (39675, 245)\n"
     ]
    }
   ],
   "source": [
    "print('X_train.shape:', X_train.shape)"
   ]
  },
  {
   "cell_type": "markdown",
   "metadata": {},
   "source": [
    "## Step2. 模型参数调优\n",
    "\n",
    "### 随机森林超参数简介\n",
    "\n",
    "随机森林模型有以下超参数：\n",
    "\n",
    "1. n_estimators: 森林中树的数量\n",
    "   - Int = 100,\n",
    "2. criterion: 分裂节点的标准\n",
    "   - Literal['gini', 'entropy', 'log_loss'] = \"gini\"\n",
    "3. max_depth: 树的最大深度\n",
    "   - Int | None = None\n",
    "4. min_samples_split: 内部节点再划分所需的最小样本数\n",
    "   - float | int = 2,\n",
    "5. min_samples_leaf: 叶子节点最少样本数\n",
    "   - float | int = 1\n",
    "6. min_weight_fraction_leaf: 叶子节点最小的样本权重和\n",
    "   - Float = 0\n",
    "7. max_features: 划分时考虑的最大特征数\n",
    "   - float | int | Literal['sqrt', 'log2'] = \"sqrt\"\n",
    "8. max_leaf_nodes: 叶子节点最大数\n",
    "   - Int | None = None\n",
    "9. min_impurity_decrease: 分裂节点的不纯度减少值\n",
    "   - Float = 0,\n",
    "10. bootstrap: 是否使用bootstrap样本\n",
    "    - bool = True\n",
    "11. oob_score: 是否使用袋外估计\n",
    "    - bool = False\n",
    "12. n_jobs: 并行处理的数量\n",
    "    - Int | None = None\n",
    "13. random_state: 随机种子\n",
    "    - Int | RandomState | None = None\n",
    "14. verbose: 控制输出\n",
    "    - Int = 0\n",
    "15. warm_start: 是否热启动\n",
    "    - bool = False,\n",
    "16. class_weight: 类别权重\n",
    "    - Mapping | Sequence[Mapping] | Literal['balanced', 'balanced_subsample'] | None = None\n",
    "17. ccp_alpha: 最小成本复杂度剪枝\n",
    "    - float = 0\n",
    "18. max_samples: 每棵树的最大样本数\n",
    "    - float | int | None = None"
   ]
  },
  {
   "cell_type": "code",
   "execution_count": null,
   "metadata": {},
   "outputs": [],
   "source": [
    "\"\"\" Split the data into train and validation sets \"\"\"\n",
    "cv = ShuffleSplit(n_splits=5, test_size=0.3, random_state=17)  # 5 splits, 30% test data\n",
    "\n",
    "\"\"\" Train the Random Forest model \"\"\"\n",
    "rf = RandomForestClassifier(n_jobs=-1, random_state=17, criterion='log_loss', class_weight='balanced')"
   ]
  },
  {
   "cell_type": "markdown",
   "metadata": {},
   "source": [
    "## Step3. 预测并打包数据"
   ]
  },
  {
   "cell_type": "code",
   "execution_count": null,
   "metadata": {},
   "outputs": [],
   "source": [
    "y_test_pred = rf.predict_proba(X_test)[:, 1]\n",
    "\n",
    "df_submission = pd.DataFrame({'radiant_win_prob': y_test_pred},\n",
    "                                 index=df_test_features.index)\n",
    "\n",
    "df_submission.to_csv(\"./data/submission.csv\")"
   ]
  }
 ],
 "metadata": {
  "kernelspec": {
   "display_name": "jupyter",
   "language": "python",
   "name": "python3"
  },
  "language_info": {
   "codemirror_mode": {
    "name": "ipython",
    "version": 3
   },
   "file_extension": ".py",
   "mimetype": "text/x-python",
   "name": "python",
   "nbconvert_exporter": "python",
   "pygments_lexer": "ipython3",
   "version": "3.10.15"
  }
 },
 "nbformat": 4,
 "nbformat_minor": 2
}
