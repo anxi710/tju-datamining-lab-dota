{
 "cells": [
  {
   "cell_type": "code",
   "execution_count": null,
   "metadata": {},
   "outputs": [],
   "source": [
    "import os\n",
    "import numpy as np\n",
    "import pandas as pd\n",
    "from datetime import datetime\n",
    "from sklearn.ensemble import RandomForestClassifier\n",
    "from sklearn.model_selection import StratifiedKFold\n",
    "from sklearn.model_selection import cross_val_score\n",
    "from sklearn.model_selection import GridSearchCV\n",
    "from sklearn.model_selection import RandomizedSearchCV\n",
    "from scipy.stats import randint as sp_randint\n",
    "from skopt import BayesSearchCV\n",
    "from skopt.space import Real, Categorical, Integer\n",
    "import matplotlib.pyplot as plt\n",
    "import seaborn as sns\n",
    "from tqdm import tqdm\n",
    "%matplotlib inline"
   ]
  },
  {
   "cell_type": "code",
   "execution_count": null,
   "metadata": {},
   "outputs": [],
   "source": [
    "PATH_TO_DATA = './data/'\n",
    "\n",
    "# 将 'match_id_hash' 作为索引，'radiant_win' 作为标签\n",
    "train_data_path = os.path.join(PATH_TO_DATA, 'Dota_data_v2.0.csv')\n",
    "df_train = pd.read_csv(train_data_path, index_col='match_id_hash')"
   ]
  },
  {
   "cell_type": "code",
   "execution_count": null,
   "metadata": {},
   "outputs": [],
   "source": [
    "# 删除从 'total_teamfight_time' 开始的所有列\n",
    "#df_train = df_train.iloc[:, 0:df_train.columns.get_loc('total_teamfight_time')]"
   ]
  },
  {
   "cell_type": "code",
   "execution_count": null,
   "metadata": {},
   "outputs": [],
   "source": [
    "zero=df_train[df_train['teamfights_number']==0]\n",
    "non_zero=df_train[df_train['teamfights_number']!=0]"
   ]
  },
  {
   "cell_type": "code",
   "execution_count": null,
   "metadata": {},
   "outputs": [],
   "source": [
    "print(zero.shape)\n",
    "print(non_zero.shape)"
   ]
  },
  {
   "cell_type": "code",
   "execution_count": null,
   "metadata": {},
   "outputs": [],
   "source": [
    "\n",
    "if 'radiant_win' in zero:\n",
    "    zero_y = zero['radiant_win']\n",
    "    del zero['radiant_win']\n",
    "    Zy = zero_y.to_numpy()\n",
    "    Zx = zero.to_numpy()\n",
    "else:\n",
    "    print('No target')\n",
    "    Zy = None\n",
    "\n",
    "if 'radiant_win' in non_zero:\n",
    "    non_zero_y = non_zero['radiant_win']\n",
    "    del non_zero['radiant_win']\n",
    "    NZy = non_zero_y.to_numpy()\n",
    "    NZx = non_zero.to_numpy()\n",
    "else:\n",
    "    print('No target')\n",
    "    NZy = None\n",
    "\n",
    "print(NZx.shape,NZy.shape)\n",
    "print(Zx.shape,Zy.shape)"
   ]
  },
  {
   "cell_type": "code",
   "execution_count": null,
   "metadata": {},
   "outputs": [],
   "source": [
    "param_dist = {\n",
    "    'max_depth': Integer(30, 50)\n",
    "    # 'n_estimators': Integer(10, 1000),\n",
    "    # 'max_depth': Integer(10, 100),\n",
    "    # 'min_samples_split': Integer(2, 10),\n",
    "    # 'min_samples_leaf': Integer(1, 10),\n",
    "}\n",
    "\n",
    "# 交叉验证\n",
    "cv = StratifiedKFold(n_splits=5, shuffle=True, random_state=17)\n",
    "\n",
    "# 随机森林\n",
    "Zrf = RandomForestClassifier(n_jobs=-1,\n",
    "                            random_state=17,\n",
    "                            criterion='log_loss',\n",
    "                            class_weight='balanced',\n",
    "                            #max_depth=40,\n",
    "                            min_samples_split=2,\n",
    "                            min_samples_leaf=8 ,\n",
    "                            max_features='log2',\n",
    "                            n_estimators = 200\n",
    "                            )\n",
    "\n",
    "# 贝叶斯优化\n",
    "Zopt = BayesSearchCV(\n",
    "    Zrf,\n",
    "    param_dist,\n",
    "    n_iter=20,\n",
    "    cv=cv,\n",
    "    scoring='roc_auc',\n",
    "    n_jobs=-1,\n",
    "    random_state=17\n",
    ")\n",
    "Zopt.fit(Zx, Zy)"
   ]
  },
  {
   "cell_type": "code",
   "execution_count": null,
   "metadata": {},
   "outputs": [],
   "source": [
    "print('Best params & Best score', Zopt.best_params_, Zopt.best_score_)"
   ]
  },
  {
   "cell_type": "code",
   "execution_count": null,
   "metadata": {},
   "outputs": [],
   "source": [
    "param_dist = {\n",
    "    'max_depth': Integer(35, 45)\n",
    "    # 'n_estimators': Integer(10, 1000),\n",
    "    # 'max_depth': Integer(10, 100),\n",
    "    # 'min_samples_split': Integer(2, 10),\n",
    "    # 'min_samples_leaf': Integer(1, 10),\n",
    "}\n",
    "\n",
    "# 交叉验证\n",
    "cv = StratifiedKFold(n_splits=5, shuffle=True, random_state=17)\n",
    "\n",
    "# 随机森林\n",
    "NZrf = RandomForestClassifier(n_jobs=-1,\n",
    "                            random_state=17,\n",
    "                            criterion='log_loss',\n",
    "                            class_weight='balanced',\n",
    "                            max_depth=40,\n",
    "                            min_samples_split=2,\n",
    "                            min_samples_leaf=8 ,\n",
    "                            max_features='log2',\n",
    "                            n_estimators = 200\n",
    "                            )\n",
    "\n",
    "\n",
    "# 贝叶斯优化\n",
    "NZopt = BayesSearchCV(\n",
    "    NZrf,\n",
    "    param_dist,\n",
    "    n_iter=20,\n",
    "    cv=cv,\n",
    "    scoring='roc_auc',\n",
    "    n_jobs=-1,\n",
    "    random_state=17\n",
    ")\n",
    "NZopt.fit(NZx, NZy)"
   ]
  },
  {
   "cell_type": "code",
   "execution_count": null,
   "metadata": {},
   "outputs": [],
   "source": [
    "\n",
    "print('Best params & Best score', NZopt.best_params_, NZopt.best_score_)"
   ]
  },
  {
   "cell_type": "code",
   "execution_count": null,
   "metadata": {},
   "outputs": [],
   "source": [
    "# 使用网格搜索进行超参数调优\n",
    "\n",
    "param_grid = {\n",
    "    'min_samples_leaf' : [ 2],\n",
    "}\n",
    "# 随机森林\n",
    "Zrf = RandomForestClassifier(n_jobs=-1,\n",
    "                            random_state=17,\n",
    "                            criterion='log_loss',\n",
    "                            class_weight='balanced',\n",
    "                            max_depth=40,\n",
    "                            min_samples_split=2,\n",
    "                            #min_samples_leaf=8 ,\n",
    "                            max_features='log2',\n",
    "                            n_estimators = 2000\n",
    "                            )\n",
    "\n",
    "# 统计训练时间\n",
    "start_time = datetime.now()\n",
    "grid_search = GridSearchCV(Zrf,\n",
    "                           param_grid,\n",
    "                           cv=cv,\n",
    "                           scoring='roc_auc',\n",
    "                           n_jobs=-1,\n",
    "                            )\n",
    "grid_search.fit(Zx, Zy)\n",
    "end_time = datetime.now()\n",
    "\n",
    "print('Training took: ', end_time - start_time)\n",
    "print('Best params & Best score', grid_search.best_params_, grid_search.best_score_)"
   ]
  }
 ],
 "metadata": {
  "kernelspec": {
   "display_name": "base",
   "language": "python",
   "name": "python3"
  },
  "language_info": {
   "codemirror_mode": {
    "name": "ipython",
    "version": 3
   },
   "file_extension": ".py",
   "mimetype": "text/x-python",
   "name": "python",
   "nbconvert_exporter": "python",
   "pygments_lexer": "ipython3",
   "version": "3.11.5"
  }
 },
 "nbformat": 4,
 "nbformat_minor": 2
}
